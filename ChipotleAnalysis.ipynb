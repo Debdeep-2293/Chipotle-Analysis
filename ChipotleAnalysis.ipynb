{
 "cells": [
  {
   "cell_type": "markdown",
   "metadata": {},
   "source": [
    "#  Analysis on Chipotle Data\n",
    "### Debdeep Ghosh"
   ]
  },
  {
   "cell_type": "code",
   "execution_count": 74,
   "metadata": {},
   "outputs": [
    {
     "name": "stdout",
     "output_type": "stream",
     "text": [
      "      order_id  quantity                              item_name  \\\n",
      "0            1         1           Chips and Fresh Tomato Salsa   \n",
      "1            1         1                                   Izze   \n",
      "2            1         1                       Nantucket Nectar   \n",
      "3            1         1  Chips and Tomatillo-Green Chili Salsa   \n",
      "4            2         2                           Chicken Bowl   \n",
      "...        ...       ...                                    ...   \n",
      "4617      1833         1                          Steak Burrito   \n",
      "4618      1833         1                          Steak Burrito   \n",
      "4619      1834         1                     Chicken Salad Bowl   \n",
      "4620      1834         1                     Chicken Salad Bowl   \n",
      "4621      1834         1                     Chicken Salad Bowl   \n",
      "\n",
      "                                     choice_description item_price  \n",
      "0                                                   NaN     $2.39   \n",
      "1                                          [Clementine]     $3.39   \n",
      "2                                               [Apple]     $3.39   \n",
      "3                                                   NaN     $2.39   \n",
      "4     [Tomatillo-Red Chili Salsa (Hot), [Black Beans...    $16.98   \n",
      "...                                                 ...        ...  \n",
      "4617  [Fresh Tomato Salsa, [Rice, Black Beans, Sour ...    $11.75   \n",
      "4618  [Fresh Tomato Salsa, [Rice, Sour Cream, Cheese...    $11.75   \n",
      "4619  [Fresh Tomato Salsa, [Fajita Vegetables, Pinto...    $11.25   \n",
      "4620  [Fresh Tomato Salsa, [Fajita Vegetables, Lettu...     $8.75   \n",
      "4621  [Fresh Tomato Salsa, [Fajita Vegetables, Pinto...     $8.75   \n",
      "\n",
      "[4622 rows x 5 columns]\n"
     ]
    }
   ],
   "source": [
    "# 1. Importing the data\n",
    "\n",
    "import pandas as pd\n",
    "\n",
    "chipo = pd.read_csv('5457412.txt', sep = \"\\t\")\n",
    "print(chipo)"
   ]
  },
  {
   "cell_type": "code",
   "execution_count": 34,
   "metadata": {},
   "outputs": [
    {
     "name": "stdout",
     "output_type": "stream",
     "text": [
      "<class 'pandas.core.frame.DataFrame'>\n",
      "RangeIndex: 4622 entries, 0 to 4621\n",
      "Data columns (total 5 columns):\n",
      " #   Column              Non-Null Count  Dtype \n",
      "---  ------              --------------  ----- \n",
      " 0   order_id            4622 non-null   int64 \n",
      " 1   quantity            4622 non-null   int64 \n",
      " 2   item_name           4622 non-null   object\n",
      " 3   choice_description  3376 non-null   object\n",
      " 4   item_price          4622 non-null   object\n",
      "dtypes: int64(2), object(3)\n",
      "memory usage: 180.7+ KB\n"
     ]
    },
    {
     "data": {
      "text/plain": [
       "RangeIndex(start=0, stop=4622, step=1)"
      ]
     },
     "execution_count": 34,
     "metadata": {},
     "output_type": "execute_result"
    }
   ],
   "source": [
    "# 2. Try the functions\n",
    "\n",
    "chipo.head(10) # Display first 10 values\n",
    "chipo.info()   # Display the types of the columns and data\n",
    "chipo.shape    # Display the size of data, rows and columns\n",
    "chipo.columns  # Display the column names\n",
    "chipo.index    # Display the range index"
   ]
  },
  {
   "cell_type": "code",
   "execution_count": 35,
   "metadata": {},
   "outputs": [
    {
     "name": "stdout",
     "output_type": "stream",
     "text": [
      "Most ordered item and quantity\n",
      "      item_name  Frequency\n",
      "0  Chicken Bowl        726\n"
     ]
    }
   ],
   "source": [
    "# 3. Most ordered item and quantity\n",
    "chipo_1 = chipo['item_name'].value_counts().nlargest(1).rename_axis('item_name').reset_index(name='Frequency')\n",
    "print(\"Most ordered item and quantity\")\n",
    "print(chipo_1)"
   ]
  },
  {
   "cell_type": "code",
   "execution_count": 36,
   "metadata": {},
   "outputs": [
    {
     "name": "stdout",
     "output_type": "stream",
     "text": [
      "Most ordered item and quantity\n",
      "        choice  Frequency\n",
      "0  [Diet Coke]        134\n"
     ]
    }
   ],
   "source": [
    "# 4. Most ordered item in choice description\n",
    "\n",
    "chipo_choice_1 = chipo['choice_description'].value_counts().nlargest(1).rename_axis('choice').reset_index(name='Frequency')\n",
    "print(\"Most ordered item and quantity\")\n",
    "print(chipo_choice_1)"
   ]
  },
  {
   "cell_type": "code",
   "execution_count": 37,
   "metadata": {},
   "outputs": [
    {
     "name": "stdout",
     "output_type": "stream",
     "text": [
      "Quantity ordered in total\n"
     ]
    },
    {
     "data": {
      "text/plain": [
       "4972"
      ]
     },
     "execution_count": 37,
     "metadata": {},
     "output_type": "execute_result"
    }
   ],
   "source": [
    "# 5. How many items were ordered in total\n",
    "\n",
    "print(\"Quantity ordered in total\")\n",
    "chipo['quantity'].sum()"
   ]
  },
  {
   "cell_type": "code",
   "execution_count": 38,
   "metadata": {},
   "outputs": [
    {
     "name": "stdout",
     "output_type": "stream",
     "text": [
      "<class 'pandas.core.frame.DataFrame'>\n",
      "RangeIndex: 4622 entries, 0 to 4621\n",
      "Data columns (total 5 columns):\n",
      " #   Column              Non-Null Count  Dtype \n",
      "---  ------              --------------  ----- \n",
      " 0   order_id            4622 non-null   int64 \n",
      " 1   quantity            4622 non-null   int64 \n",
      " 2   item_name           4622 non-null   object\n",
      " 3   choice_description  3376 non-null   object\n",
      " 4   item_price          4622 non-null   object\n",
      "dtypes: int64(2), object(3)\n",
      "memory usage: 180.7+ KB\n"
     ]
    }
   ],
   "source": [
    "# 6. Calculate Revenue\n",
    "chipo.info()\n",
    "# Removing $ from item_price and then converting item_price to float for the sum\n",
    "\n",
    "chipo_itemprice = chipo\n",
    "chipo_itemprice['item_price'] = chipo_itemprice['item_price'].map(lambda x: x.lstrip('$'))\n",
    "\n",
    "chipo_itemprice['item_price'] = chipo_itemprice['item_price'].astype(float)\n"
   ]
  },
  {
   "cell_type": "code",
   "execution_count": 61,
   "metadata": {},
   "outputs": [
    {
     "name": "stdout",
     "output_type": "stream",
     "text": [
      "Total revenue\n",
      "$ 34500.16\n"
     ]
    }
   ],
   "source": [
    "print(\"Total revenue\")\n",
    "print('$',chipo_itemprice['item_price'].sum())"
   ]
  },
  {
   "cell_type": "code",
   "execution_count": 50,
   "metadata": {},
   "outputs": [
    {
     "name": "stdout",
     "output_type": "stream",
     "text": [
      "Total orders\n",
      "4622\n"
     ]
    }
   ],
   "source": [
    "# 7. How many orders were made in the period\n",
    "\n",
    "chipo_orders = chipo['order_id'].value_counts().rename_axis(\"Orders\").reset_index(name = \"Freq\")\n",
    "print(\"Total orders\")\n",
    "print(chipo_orders['Freq'].sum())"
   ]
  },
  {
   "cell_type": "code",
   "execution_count": 62,
   "metadata": {},
   "outputs": [
    {
     "name": "stdout",
     "output_type": "stream",
     "text": [
      "Average amount per order\n",
      "$ 7.841910975496643\n"
     ]
    }
   ],
   "source": [
    "# 8. Average amount per order\n",
    "chipo.columns\n",
    "#chipo['item_price'].mean()\n",
    "\n",
    "# Grouping item prices by order id\n",
    "chipo_orderamt = chipo.groupby('order_id')['item_price'].mean()\n",
    "\n",
    "# Average amount per order\n",
    "print(\"Average amount per order\")\n",
    "print('$',chipo_orderamt.mean())"
   ]
  },
  {
   "cell_type": "code",
   "execution_count": 73,
   "metadata": {},
   "outputs": [
    {
     "name": "stdout",
     "output_type": "stream",
     "text": [
      "Total amount of different items sold 50\n",
      "Items: \n",
      "Chips and Fresh Tomato Salsa,Izze,Nantucket Nectar,Chips and Tomatillo-Green Chili Salsa,Chicken Bowl,Side of Chips,Steak Burrito,Steak Soft Tacos,Chips and Guacamole,Chicken Crispy Tacos,Chicken Soft Tacos,Chicken Burrito,Canned Soda,Barbacoa Burrito,Carnitas Burrito,Carnitas Bowl,Bottled Water,Chips and Tomatillo Green Chili Salsa,Barbacoa Bowl,Chips,Chicken Salad Bowl,Steak Bowl,Barbacoa Soft Tacos,Veggie Burrito,Veggie Bowl,Steak Crispy Tacos,Chips and Tomatillo Red Chili Salsa,Barbacoa Crispy Tacos,Veggie Salad Bowl,Chips and Roasted Chili-Corn Salsa,Chips and Roasted Chili Corn Salsa,Carnitas Soft Tacos,Chicken Salad,Canned Soft Drink,Steak Salad Bowl,6 Pack Soft Drink,Chips and Tomatillo-Red Chili Salsa,Bowl,Burrito,Crispy Tacos,Carnitas Crispy Tacos,Steak Salad,Chips and Mild Fresh Tomato Salsa,Veggie Soft Tacos,Carnitas Salad Bowl,Barbacoa Salad Bowl,Salad,Veggie Crispy Tacos,Veggie Salad,Carnitas Salad,"
     ]
    }
   ],
   "source": [
    "# 9. Different items sold\n",
    "\n",
    "count = 0\n",
    "visit = []\n",
    "\n",
    "for i in range(0,len(chipo['item_name'])):\n",
    "    if chipo['item_name'][i] not in visit:\n",
    "        visit.append(chipo['item_name'][i])\n",
    "        count +=1\n",
    "print(\"Total amount of different items sold:\", count)\n",
    "print(\"Items: \")\n",
    "for x in visit:\n",
    "    print(x, end = ',')"
   ]
  }
 ],
 "metadata": {
  "kernelspec": {
   "display_name": "Python 3",
   "language": "python",
   "name": "python3"
  },
  "language_info": {
   "codemirror_mode": {
    "name": "ipython",
    "version": 3
   },
   "file_extension": ".py",
   "mimetype": "text/x-python",
   "name": "python",
   "nbconvert_exporter": "python",
   "pygments_lexer": "ipython3",
   "version": "3.7.6"
  }
 },
 "nbformat": 4,
 "nbformat_minor": 4
}
